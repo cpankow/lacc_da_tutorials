{
 "cells": [
  {
   "cell_type": "code",
   "execution_count": 1,
   "metadata": {
    "collapsed": false
   },
   "outputs": [],
   "source": [
    "import wave\n",
    "import numpy\n",
    "\n",
    "%matplotlib inline\n",
    "from matplotlib import pyplot as plt"
   ]
  },
  {
   "cell_type": "code",
   "execution_count": 2,
   "metadata": {
    "collapsed": false
   },
   "outputs": [],
   "source": [
    "%%bash\n",
    "# Reconstructed (template -- no noise)\n",
    "if [ ! -f fig2-unfiltered-template-reconstruction-H.txt ]; then\n",
    "    wget https://losc.ligo.org/s/events/GW150914/P150914/fig2-unfiltered-template-reconstruction-H.txt\n",
    "fi\n",
    "\n",
    "# Denoised signal (Hanford site)\n",
    "if [ ! -f fig1-observed-H.txt ]; then\n",
    "    wget https://losc.ligo.org/s/events/GW150914/P150914/fig1-observed-H.txt\n",
    "fi\n",
    "\n",
    "# Denoised signal (Livingston site)\n",
    "if [ ! -f fig1-observed-L.txt ]; then\n",
    "    wget https://losc.ligo.org/s/events/GW150914/P150914/fig1-observed-L.txt\n",
    "fi"
   ]
  },
  {
   "cell_type": "code",
   "execution_count": 3,
   "metadata": {
    "collapsed": false
   },
   "outputs": [],
   "source": [
    "# pure tone\n",
    "freq = 261.6 # Hz (Middle C)\n",
    "#freq = 1400 # Hz ISCO\n",
    "duration = 5 * 4 # s (FIXME: times bytes?)\n",
    "sampling_rate = 44100 # audio is typically encoded at 44.1 kHz\n",
    "t = numpy.linspace(0, duration, sampling_rate * duration, dtype = numpy.float32)\n",
    "data = numpy.cos(2 * numpy.pi * t * freq / 2) # FIXME: What's with the factor of two?\n",
    "\n",
    "# Convert to 4 byte unsigned integer for encoding\n",
    "data.dtype = numpy.uint32\n",
    "\n",
    "wout = wave.open(\"pure_tone.wav\", \"w\")\n",
    "wout.setnchannels(2) # mono\n",
    "wout.setsampwidth(4) # 32 bit audio\n",
    "wout.setframerate(sampling_rate)\n",
    "wout.writeframes(data)\n",
    "wout.writeframes(data)\n",
    "wout.close()"
   ]
  },
  {
   "cell_type": "code",
   "execution_count": 121,
   "metadata": {
    "collapsed": false
   },
   "outputs": [
    {
     "data": {
      "text/html": [
       "<iframe src=\"https://commons.wikimedia.org/wiki/File%3AAudio_Frequency_tone%2C_Middle_C%2C_C4%2C_261.63hz.ogg?embedplayer=yes\" width=\"120\" height=\"120\" frameborder=\"0\" ></iframe>"
      ],
      "text/plain": [
       "<IPython.core.display.HTML object>"
      ]
     },
     "metadata": {},
     "output_type": "display_data"
    }
   ],
   "source": [
    "%%html\n",
    "<iframe src=\"https://commons.wikimedia.org/wiki/File%3AAudio_Frequency_tone%2C_Middle_C%2C_C4%2C_261.63hz.ogg?embedplayer=yes\" width=\"120\" height=\"120\" frameborder=\"0\" ></iframe>"
   ]
  },
  {
   "cell_type": "code",
   "execution_count": 122,
   "metadata": {
    "collapsed": false
   },
   "outputs": [
    {
     "name": "stdout",
     "output_type": "stream",
     "text": [
      "pure_tone.wav: RIFF (little-endian) data, WAVE audio, Microsoft PCM, 32 bit, stereo 44100 Hz\n"
     ]
    },
    {
     "name": "stderr",
     "output_type": "stream",
     "text": [
      "\n",
      "real\t0m5.363s\n",
      "user\t0m0.048s\n",
      "sys\t0m0.027s\n"
     ]
    }
   ],
   "source": [
    "%%bash\n",
    "# OS X only\n",
    "file pure_tone.wav\n",
    "time afplay pure_tone.wav"
   ]
  },
  {
   "cell_type": "code",
   "execution_count": 4,
   "metadata": {
    "collapsed": false
   },
   "outputs": [
    {
     "data": {
      "image/png": "[encoded data removed]",
      "text/plain": [
       "<matplotlib.figure.Figure at 0x107f8c550>"
      ]
     },
     "metadata": {},
     "output_type": "display_data"
    }
   ],
   "source": [
    "import lal, lalsimulation\n",
    "sampling_rate = 16384 * 4\n",
    "\n",
    "m1, m2 = 1.4 * lal.MSUN_SI, 1.4 * lal.MSUN_SI\n",
    "s1x, s1y, s1z = 0.5, 0.5, 0.0\n",
    "#s1x, s1y, s1z = 0.0, 0.0, 0.0\n",
    "s2x, s2y, s2z = 0.9, 0.0, 0.0\n",
    "approx = lalsimulation.GetApproximantFromString(\"IMRPhenomPv2\")\n",
    "hp, hx = lalsimulation.SimInspiralTD(0, 1.0/sampling_rate,\n",
    "                                     m1, m2,\n",
    "                                     s1x, s1y, s1z,\n",
    "                                     s2x, s2y, s2z,\n",
    "                                     40, 10,\n",
    "                                     1e6*lal.PC_SI, 0.0,\n",
    "                                     1.0, 0.0, \n",
    "                                     0.0, None, None, -1, 7, approx)\n",
    "\n",
    "tmplt = hp.data.data  + hx.data.data\n",
    "\n",
    "t = numpy.linspace(0, len(hp.data.data) / sampling_rate, len(hp.data.data), dtype = numpy.float32)\n",
    "tmplt /= tmplt.max()\n",
    "tmplt = tmplt.astype(numpy.float32)\n",
    "\n",
    "plt.plot(t, tmplt, \"k-\")\n",
    "plt.grid()\n",
    "# Note that the time is actually relative to a given GPS time recorded by a instrument\n",
    "plt.xlabel(\"time (s)\")\n",
    "plt.ylabel(\"strain\")\n",
    "\n",
    "tmplt.dtype = numpy.int32\n",
    "tmplt = tmplt.copy(order='C')\n",
    "\n",
    "wout = wave.open(\"NSBH_noise_free.wav\", \"w\")\n",
    "wout.setnchannels(1) # mono\n",
    "wout.setsampwidth(4) # 32 bit audio\n",
    "wout.setframerate(sampling_rate)\n",
    "#wout.setnframes(1)\n",
    "# Now... why do I have to write this four times?\n",
    "wout.writeframes(tmplt)\n",
    "wout.writeframes(tmplt)\n",
    "wout.writeframes(tmplt)\n",
    "wout.writeframes(tmplt)\n",
    "wout.close()"
   ]
  },
  {
   "cell_type": "code",
   "execution_count": 5,
   "metadata": {
    "collapsed": false
   },
   "outputs": [
    {
     "name": "stdout",
     "output_type": "stream",
     "text": [
      "NSBH_noise_free.wav: RIFF (little-endian) data, WAVE audio, Microsoft PCM, 32 bit, mono 65536 Hz\n"
     ]
    },
    {
     "name": "stderr",
     "output_type": "stream",
     "text": [
      "\n",
      "real\t0m31.376s\n",
      "user\t0m0.296s\n",
      "sys\t0m0.102s\n"
     ]
    }
   ],
   "source": [
    "%%bash\n",
    "# OS X only\n",
    "file NSBH_noise_free.wav\n",
    "time afplay NSBH_noise_free.wav"
   ]
  },
  {
   "cell_type": "code",
   "execution_count": 6,
   "metadata": {
    "collapsed": false
   },
   "outputs": [],
   "source": [
    "# Import template data\n",
    "t, _, tmplt = numpy.loadtxt(\"fig2-unfiltered-template-reconstruction-H.txt\", unpack=True, dtype=numpy.float32)"
   ]
  },
  {
   "cell_type": "code",
   "execution_count": 7,
   "metadata": {
    "collapsed": false
   },
   "outputs": [
    {
     "data": {
      "text/plain": [
       "<matplotlib.text.Text at 0x1020df150>"
      ]
     },
     "execution_count": 7,
     "metadata": {},
     "output_type": "execute_result"
    },
    {
     "data": {
      "image/png": "[encoded data removed]",
      "text/plain": [
       "<matplotlib.figure.Figure at 0x1058c2590>"
      ]
     },
     "metadata": {},
     "output_type": "display_data"
    }
   ],
   "source": [
    "plt.plot(t, tmplt, \"k-\")\n",
    "plt.grid()\n",
    "# Note that the time is actually relative to a given GPS time recorded by a instrument\n",
    "plt.xlabel(\"time (s)\")\n",
    "plt.ylabel(\"strain\")"
   ]
  },
  {
   "cell_type": "code",
   "execution_count": 8,
   "metadata": {
    "collapsed": false
   },
   "outputs": [],
   "source": [
    "sampling_rate = 16384\n",
    "tmplt.dtype = numpy.int32\n",
    "tmplt = tmplt.copy(order='C')\n",
    "\n",
    "wout = wave.open(\"GW150914_noise_free.wav\", \"w\")\n",
    "wout.setnchannels(1) # mono\n",
    "wout.setsampwidth(4) # 32 bit audio\n",
    "wout.setframerate(sampling_rate)\n",
    "wout.writeframes(tmplt)\n",
    "wout.writeframes(tmplt)\n",
    "wout.writeframes(tmplt)\n",
    "wout.writeframes(tmplt)\n",
    "wout.close()"
   ]
  },
  {
   "cell_type": "code",
   "execution_count": 9,
   "metadata": {
    "collapsed": false
   },
   "outputs": [
    {
     "name": "stdout",
     "output_type": "stream",
     "text": [
      "GW150914_noise_free.wav: RIFF (little-endian) data, WAVE audio, Microsoft PCM, 32 bit, mono 16384 Hz\n"
     ]
    },
    {
     "name": "stderr",
     "output_type": "stream",
     "text": [
      "\n",
      "real\t0m0.622s\n",
      "user\t0m0.027s\n",
      "sys\t0m0.017s\n"
     ]
    }
   ],
   "source": [
    "%%bash\n",
    "# OS X only\n",
    "file GW150914_noise_free.wav\n",
    "time afplay GW150914_noise_free.wav"
   ]
  }
 ],
 "metadata": {
  "kernelspec": {
   "display_name": "Python 2",
   "language": "python",
   "name": "python2"
  },
  "language_info": {
   "codemirror_mode": {
    "name": "ipython",
    "version": 2
   },
   "file_extension": ".py",
   "mimetype": "text/x-python",
   "name": "python",
   "nbconvert_exporter": "python",
   "pygments_lexer": "ipython2",
   "version": "2.7.11"
  }
 },
 "nbformat": 4,
 "nbformat_minor": 0
}
